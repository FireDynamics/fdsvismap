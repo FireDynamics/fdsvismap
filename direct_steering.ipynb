{
 "cells": [
  {
   "cell_type": "code",
   "execution_count": null,
   "id": "a6d4f847-92e0-4905-b52b-a9e61aa2355f",
   "metadata": {
    "editable": true,
    "slideshow": {
     "slide_type": ""
    },
    "tags": []
   },
   "outputs": [],
   "source": [
    "import pathlib\n",
    "import os\n",
    "import random\n",
    "import jupedsim as jps\n",
    "import pedpy\n",
    "from matplotlib.patches import Circle\n",
    "from shapely import GeometryCollection, Point, Polygon\n",
    "from fdsvismap import VisMap\n",
    "import shapely\n",
    "import matplotlib.pyplot as plt\n",
    "import matplotlib.patches as patches"
   ]
  },
  {
   "cell_type": "markdown",
   "id": "f608a8be",
   "metadata": {},
   "source": [
    "## Config parameters"
   ]
  },
  {
   "cell_type": "code",
   "execution_count": null,
   "id": "c4f4f7c1",
   "metadata": {},
   "outputs": [],
   "source": [
    "num_agents = 3\n",
    "c0 = 3\n",
    "premovement_time = 600 # seconds\n",
    "v0 = 1.0\n",
    "seed = 1\n",
    "# Set times when the simulation should be evaluated\n",
    "update_time = 50\n",
    "max_vis_simulation_time = 1000\n",
    "times = range(0, max_vis_simulation_time, update_time)\n",
    "trajectory_file = f\"output_N{num_agents}.sqlite\"  # output file\n",
    "\n",
    "exits = [\n",
    "    #left\n",
    "    Polygon([(2, 15.5), (3, 15.5), (3, 16.5), (2, 16.5), (2, 15.5)]),\n",
    "    # right\n",
    "    Polygon([(25, 15.5), (27, 15.5), (27, 16.5), (25, 16.5), (25, 15.5)]),\n",
    "]   \n",
    "distance_to_waypoints = 0.5\n",
    "\n",
    "waypoints = [\n",
    "    (13.5, 8.5), #180\n",
    "    (10.5, 4.5), # 0\n",
    "    (18.5, 6.5), #270\n",
    "]"
   ]
  },
  {
   "cell_type": "markdown",
   "id": "34b94c0b",
   "metadata": {},
   "source": [
    "## Vismap config"
   ]
  },
  {
   "cell_type": "code",
   "execution_count": null,
   "id": "ba559efc",
   "metadata": {},
   "outputs": [],
   "source": [
    "project_root = pathlib.Path(os.path.abspath('')) / \"examples\" / \"jupedsim_fire\"\n",
    "sim_dir = str(project_root / \"fds_data_4\")\n",
    "vis = VisMap()\n",
    "vis.read_fds_data(sim_dir)\n",
    "vis.set_start_point(8, 8)\n",
    "# Kristian: TODO: Flip the y-axis\n",
    "vis.set_waypoint(x=waypoints[0][0], y=15-waypoints[0][1], c=c0, alpha=180)\n",
    "vis.set_waypoint(x=waypoints[1][0], y=15-waypoints[1][1], c=c0, alpha=0)\n",
    "vis.set_waypoint(x=waypoints[2][0], y=15-waypoints[2][1], c=c0, alpha=270)\n",
    "vis.set_waypoint(x=exits[1].centroid.xy[0][0], y=exits[1].centroid.xy[1][0], c=c0, alpha=0)\n",
    "\n",
    "vis.set_time_points(times)\n",
    "# Do the required calculations to create the Vismap\n",
    "vis.compute_all()\n",
    "# pandas.to_pickle(vis, \"vismap.pkl\")\n",
    "# if Path(\"vismap.pkl\").is_file():\n",
    "#     vis = pandas.read_pickle(\"vismap.pkl\")\n",
    "# else:\n"
   ]
  },
  {
   "cell_type": "code",
   "execution_count": null,
   "id": "10747ef7",
   "metadata": {},
   "outputs": [],
   "source": [
    "fig, ax = vis.create_aset_map_plot(plot_obstructions=True)"
   ]
  },
  {
   "cell_type": "code",
   "execution_count": null,
   "id": "1dae48a0",
   "metadata": {},
   "outputs": [],
   "source": [
    "fig, ax = vis.create_time_agg_wp_agg_vismap(plot_obstructions=True)\n",
    "\n",
    "# Check if waypoint is visible from given location at given time\n",
    "print(vis.wp_is_visible(time=50, x=12.5, y=0.6, waypoint_id=1))\n",
    "\n",
    "# Get distance from waypoint to given location\n",
    "print(f\"{vis.get_distance_to_wp(x=17, y=5, waypoint_id=1)=}\")\n",
    "\n",
    "# Calculate local visibility at given location and time, considering a specific c factor\n",
    "print(vis.get_local_visibility(time=100, x=5, y=6, c=3))\n"
   ]
  },
  {
   "cell_type": "code",
   "execution_count": null,
   "id": "507ccc55",
   "metadata": {},
   "outputs": [],
   "source": [
    "v= []\n",
    "for t in times:\n",
    "    v.append(vis.get_local_visibility(time=t, x=25, y=12, c=3))\n",
    "    #v.append(vis.get_local_visibility(time=t, x=7, y=4, c=3))\n",
    "\n",
    "plt.plot(times, v)\n",
    "plt.xlabel('Time [s]')\n",
    "plt.ylabel('Local Visibility')\n",
    "v"
   ]
  },
  {
   "cell_type": "code",
   "execution_count": null,
   "id": "83ae3863",
   "metadata": {},
   "outputs": [],
   "source": [
    "import numpy as np\n",
    "def calculate_desired_speed(v, c, max_speed, range=2.0):\n",
    "    # Calculate the proximity of v to c, and adjust speed accordingly\n",
    "    if v <= c:\n",
    "        return 0\n",
    "    else:\n",
    "        # Create a linear relation or any other functional form as needed\n",
    "        # This example uses an exponential decay to decrease speed as v approaches c\n",
    "        return max_speed * (1 - np.exp(-(v - c)/range ))\n",
    "    \n",
    "desired_speeds = [calculate_desired_speed(visibility, 3, max_speed=1.0) for visibility in v]\n",
    "plt.plot(times,desired_speeds)\n",
    "plt.xlabel('Time [s]')\n",
    "plt.ylabel('Desired Speed [m/s]')\n"
   ]
  },
  {
   "cell_type": "markdown",
   "id": "c9f63836-0f81-4684-b99e-abdf664c9d53",
   "metadata": {
    "editable": true,
    "slideshow": {
     "slide_type": ""
    },
    "tags": []
   },
   "source": [
    "## Definition of Start Positions and Exit\n",
    "\n",
    "Now we define the spawning area and way points for the leader to follow."
   ]
  },
  {
   "cell_type": "code",
   "execution_count": null,
   "id": "04bc9e72",
   "metadata": {},
   "outputs": [],
   "source": [
    "area = Polygon([(0, 0), (30, 0), (30, 20), (0, 20)])\n",
    "obstacles = [\n",
    "Polygon([(0, 5), (10, 5), (10, 5.1), (0, 5.1)]),\n",
    "Polygon([(11, 5), (19, 5), (19, 5.1), (11, 5.1)]),\n",
    "\n",
    "Polygon([(4, 8), (4.1, 8), (4.1, 15), (4, 15)]),\n",
    "\n",
    "Polygon([(0, 15), (2.0, 15), (2.0, 15.1), (0, 15.1)]),\n",
    "Polygon([(3.0, 15), (4.1, 15), (4.1, 15.1), (3.0, 15.1)]),\n",
    "\n",
    "Polygon([(4.1, 15), (19, 15), (19, 15.1), (4.1, 15.1)]),\n",
    "Polygon([(4.1, 8), (13, 8), (13, 8.1), (4.1, 8.1)]),\n",
    "\n",
    "Polygon([(14, 8), (18.99, 8), (18.99, 8.1), (14, 8.1)]),\n",
    "\n",
    "Polygon([(18.9, 5.0), (19.0, 5.0), (19.0, 6), (18.9, 6), (18.9, 5.0)]),\n",
    "Polygon([(18.9, 0), (18.9, 5), (19.0, 5), (19, 0), (18.9,0)]),\n",
    "\n",
    "Polygon([(18.9, 7.0), (19.0, 7.0), (19.0, 15.1), (18.9, 15.1), (18.9, 7.0)]),\n",
    "Polygon([(15, 0), (15.1, 0), (15.1, 4.99), (15, 4.99)]),\n",
    "]\n",
    "obstacle = shapely.union_all(obstacles)\n",
    "walkable_area = pedpy.WalkableArea(shapely.difference(area, obstacle))\n",
    "#pedpy.plot_walkable_area(walkable_area=walkable_area)"
   ]
  },
  {
   "cell_type": "code",
   "execution_count": null,
   "id": "5dec36fb-55f2-4225-aac7-32be899c9254",
   "metadata": {
    "editable": true,
    "slideshow": {
     "slide_type": ""
    },
    "tags": []
   },
   "outputs": [],
   "source": [
    "spawning_area1 = Polygon([(0, 0), (0, 5), (15, 5), (15, 0)])\n",
    "spawning_area2 = Polygon([(4.1, 8), (19, 8), (19, 14.5), (4.1, 14.5)])\n",
    "pos_in_spawning_areas = [\n",
    "    jps.distributions.distribute_by_number(\n",
    "    polygon=spawning_area2,\n",
    "    number_of_agents=num_agents,\n",
    "    distance_to_agents=0.4,\n",
    "    distance_to_polygon=0.3,\n",
    "    seed=seed,\n",
    "),\n",
    "  jps.distributions.distribute_by_number(\n",
    "    polygon=spawning_area1,\n",
    "    number_of_agents=num_agents,\n",
    "    distance_to_agents=0.4,\n",
    "    distance_to_polygon=0.3,\n",
    "    seed=seed,\n",
    ")\n",
    "]"
   ]
  },
  {
   "cell_type": "code",
   "execution_count": null,
   "id": "220d8141-614e-464d-9dcc-fc5ea8d1a6af",
   "metadata": {
    "editable": true,
    "slideshow": {
     "slide_type": ""
    },
    "tags": [
     "hide-input"
    ]
   },
   "outputs": [],
   "source": [
    "def plot_simulation_configuration(\n",
    "    walkable_area, starting_positions, exits\n",
    "):\n",
    "    axes = pedpy.plot_walkable_area(walkable_area=walkable_area)\n",
    "    for exit_area in exits:\n",
    "        axes.fill(*exit_area.exterior.xy, color=\"indianred\")\n",
    "\n",
    "    for starting_position in starting_positions:\n",
    "      \n",
    "        axes.scatter(*zip(*starting_position), s=1, color='gray')    \n",
    "\n",
    "    axes.set_xlabel(\"x/m\")\n",
    "    axes.set_ylabel(\"y/m\")\n",
    "    axes.set_aspect(\"equal\")\n",
    "    for idx, waypoint in enumerate(waypoints):\n",
    "        axes.plot(waypoint[0], waypoint[1], \"ro\")\n",
    "        axes.annotate(\n",
    "            f\"WP {idx+1}\",\n",
    "            (waypoint[0], waypoint[1]),\n",
    "            textcoords=\"offset points\",\n",
    "            xytext=(10, -15),\n",
    "            ha=\"center\",\n",
    "        )\n",
    "        circle = Circle(\n",
    "            (waypoint[0], waypoint[1]),\n",
    "            distance_to_waypoints,\n",
    "            fc=\"red\",\n",
    "            ec=\"red\",\n",
    "            alpha=0.1,\n",
    "        )\n",
    "        axes.add_patch(circle)\n",
    "\n",
    "\n",
    "plot_simulation_configuration(\n",
    "    walkable_area, pos_in_spawning_areas, exits\n",
    ")"
   ]
  },
  {
   "cell_type": "markdown",
   "id": "2b990c43-7c81-4f19-92d6-97280974c300",
   "metadata": {
    "editable": true,
    "slideshow": {
     "slide_type": ""
    },
    "tags": []
   },
   "source": [
    "## Specification of Parameters und Running the Simulation\n",
    "\n",
    "Now we just need to define the details of the operational model as well as the exit."
   ]
  },
  {
   "cell_type": "code",
   "execution_count": null,
   "id": "6a9b725e-cf77-4589-9023-3105665684ea",
   "metadata": {
    "editable": true,
    "slideshow": {
     "slide_type": ""
    },
    "tags": []
   },
   "outputs": [],
   "source": [
    "simulation = jps.Simulation(\n",
    "    # model=jps.GeneralizedCentrifugalForceModel(\n",
    "    #     max_neighbor_repulsion_force=8,\n",
    "    #     max_geometry_repulsion_force=5,\n",
    "    #     max_neighbor_interaction_distance=2,\n",
    "    #     max_neighbor_interpolation_distance=0.1,\n",
    "    #     strength_neighbor_repulsion=0.3,\n",
    "    # ),\n",
    "    model=jps.SocialForceModel(),\n",
    "    #model=jps.CollisionFreeSpeedModel(),\n",
    "    geometry=walkable_area.polygon,\n",
    "    trajectory_writer=jps.SqliteTrajectoryWriter(\n",
    "        output_file=pathlib.Path(trajectory_file)\n",
    "    ),\n",
    ")\n",
    "exit_ids = [simulation.add_exit_stage(exit_area.exterior.coords[:-1]) for exit_area in exits]"
   ]
  },
  {
   "cell_type": "markdown",
   "id": "015995f0",
   "metadata": {},
   "source": [
    "## Define Journey for people in the upper room going right\n"
   ]
  },
  {
   "cell_type": "code",
   "execution_count": null,
   "id": "17f4ba2f",
   "metadata": {},
   "outputs": [],
   "source": [
    "waypoint_ids = [\n",
    "    simulation.add_waypoint_stage(waypoint, distance_to_waypoints)\n",
    "    for waypoint in waypoints\n",
    "]\n",
    "journey_up_right= jps.JourneyDescription([*waypoint_ids, *exit_ids])\n",
    "journey_up_right.set_transition_for_stage(\n",
    "        waypoint_ids[0],\n",
    "        jps.Transition.create_fixed_transition(\n",
    "            waypoint_ids[2]),\n",
    "    )\n",
    "journey_up_right.set_transition_for_stage(\n",
    "        waypoint_ids[2],\n",
    "        jps.Transition.create_fixed_transition(\n",
    "            exit_ids[1]),\n",
    "    )\n",
    "journey_up_right_id = simulation.add_journey(journey_up_right)"
   ]
  },
  {
   "cell_type": "code",
   "execution_count": null,
   "id": "966b11bd",
   "metadata": {},
   "outputs": [],
   "source": [
    "# unbenutzt: draft\n",
    "journey1 = jps.JourneyDescription([exit_ids[0]])\n",
    "journey2 = jps.JourneyDescription([exit_ids[1]])\n",
    "journey1_id = simulation.add_journey(journey1)\n",
    "journey2_id = simulation.add_journey(journey2)"
   ]
  },
  {
   "cell_type": "markdown",
   "id": "9ffe02f5",
   "metadata": {},
   "source": [
    "## Define Journey for people in the upper room going left\n"
   ]
  },
  {
   "cell_type": "code",
   "execution_count": null,
   "id": "e7784d72",
   "metadata": {},
   "outputs": [],
   "source": [
    "journey_up_left= jps.JourneyDescription([*waypoint_ids, *exit_ids])\n",
    "journey_up_left.set_transition_for_stage(\n",
    "        waypoint_ids[0],\n",
    "        jps.Transition.create_fixed_transition(\n",
    "            exit_ids[0]),\n",
    "    )\n",
    "journey_up_left_id = simulation.add_journey(journey_up_left)"
   ]
  },
  {
   "cell_type": "markdown",
   "id": "61413b86",
   "metadata": {},
   "source": [
    "## Define Journey for people in the lower room going right"
   ]
  },
  {
   "cell_type": "code",
   "execution_count": null,
   "id": "1a65b40e",
   "metadata": {},
   "outputs": [],
   "source": [
    "journey_down_right= jps.JourneyDescription([waypoint_ids[1], waypoint_ids[2], *exit_ids])\n",
    "journey_down_right.set_transition_for_stage(\n",
    "        waypoint_ids[1],\n",
    "        jps.Transition.create_fixed_transition(\n",
    "            waypoint_ids[2]),\n",
    "    )\n",
    "journey_down_right.set_transition_for_stage(\n",
    "        waypoint_ids[2],\n",
    "        jps.Transition.create_fixed_transition(\n",
    "            exit_ids[1]),\n",
    "    )\n",
    "journey_down_right_id = simulation.add_journey(journey_down_right)"
   ]
  },
  {
   "cell_type": "markdown",
   "id": "b69d28b3",
   "metadata": {},
   "source": [
    "## Define Journey for people in the lower room going left"
   ]
  },
  {
   "cell_type": "code",
   "execution_count": null,
   "id": "ef9475c0",
   "metadata": {},
   "outputs": [],
   "source": [
    "journey_down_left= jps.JourneyDescription([*waypoint_ids, *exit_ids])\n",
    "journey_down_left.set_transition_for_stage(\n",
    "        waypoint_ids[1],\n",
    "        jps.Transition.create_fixed_transition(\n",
    "            exit_ids[0]),\n",
    "    )\n",
    "journey_down_left_id = simulation.add_journey(journey_down_left)"
   ]
  },
  {
   "cell_type": "markdown",
   "id": "0d643d8f",
   "metadata": {},
   "source": [
    "## Add agents\n",
    "\n",
    "First, add leader, then its followers."
   ]
  },
  {
   "cell_type": "code",
   "execution_count": null,
   "id": "86acd974",
   "metadata": {},
   "outputs": [],
   "source": [
    "ids_up = set(\n",
    "    [\n",
    "        simulation.add_agent(\n",
    "            jps.SocialForceModelAgentParameters(\n",
    "                desiredSpeed=0,\n",
    "                radius=0.1,\n",
    "                journey_id=journey_up_right_id,\n",
    "                stage_id=waypoint_ids[0],\n",
    "                position=pos,\n",
    "            )\n",
    "        )\n",
    "        for pos in pos_in_spawning_areas[0]\n",
    "    ]\n",
    ")\n",
    "ids_down = set(\n",
    "    [\n",
    "        simulation.add_agent(\n",
    "            jps.SocialForceModelAgentParameters(\n",
    "                desiredSpeed=v0,\n",
    "                radius=0.1,\n",
    "                journey_id=journey_down_right_id,\n",
    "                stage_id=waypoint_ids[1],\n",
    "                position=pos,\n",
    "            )\n",
    "        )\n",
    "        for pos in pos_in_spawning_areas[1]\n",
    "    ]\n",
    ")\n",
    "first_agents = list(ids_up)[0]"
   ]
  },
  {
   "cell_type": "markdown",
   "id": "18018147",
   "metadata": {},
   "source": [
    "## Simulation loop"
   ]
  },
  {
   "cell_type": "code",
   "execution_count": null,
   "id": "335348ab",
   "metadata": {},
   "outputs": [],
   "source": [
    "simulation.iterate(premovement_time*int(1/simulation.delta_time()))\n",
    "while simulation.agent_count() > 0:# and simulation.iteration_count() < 100000:\n",
    "    t = simulation.elapsed_time() # seconds\n",
    "    if t % update_time == 0:\n",
    "        print(f\"Time: {t:3.2f}, Agents: {simulation.agent_count()}\")\n",
    "        for agent in simulation.agents():\n",
    "            condition = False #simulation.iteration_count() > 300\n",
    "            x, y = agent.position\n",
    "            condition = (not vis.wp_is_visible(time=t, x=x, y=y, waypoint_id=1)) and (x < waypoints[2][0])\n",
    "            v = vis.get_local_visibility(time=t, x=x, y=y, c=c0)\n",
    "            print(f\"{t = }, {x = }, {y = }, {v = }, {calculate_desired_speed(v, c0, v0) = }\")\n",
    "            # getting slower\n",
    "            agent.model.desiredSpeed = calculate_desired_speed(v, c0, v0)\n",
    "            # redirection\n",
    "            if agent.journey_id == journey_up_right_id and condition:\n",
    "                simulation.switch_agent_journey(agent.id, journey_up_left_id, exit_ids[0])\n",
    "            if agent.journey_id == journey_down_right_id and condition:\n",
    "                simulation.switch_agent_journey(agent.id, journey_down_left_id, exit_ids[0])\n",
    "\n",
    "    simulation.iterate()\n",
    "\n",
    "print(f\"Simulation finished after {simulation.elapsed_time()} seconds.\")"
   ]
  },
  {
   "cell_type": "markdown",
   "id": "77d7e165-1c0d-4aca-a5fa-d88d0625e8f4",
   "metadata": {
    "editable": true,
    "slideshow": {
     "slide_type": ""
    },
    "tags": []
   },
   "source": [
    "## Visualization\n",
    "\n",
    "Let's have a look at the visualization of the simulated trajectories:"
   ]
  },
  {
   "cell_type": "code",
   "execution_count": null,
   "id": "7a4455d6-3f11-4312-806a-d6d7ad6e1510",
   "metadata": {
    "editable": true,
    "pycharm": {
     "name": "#%%\n"
    },
    "slideshow": {
     "slide_type": ""
    },
    "tags": []
   },
   "outputs": [],
   "source": [
    "from jupedsim.internal.notebook_utils import animate, read_sqlite_file\n",
    "\n",
    "trajectory_data, walkable_area = read_sqlite_file(trajectory_file)\n",
    "animate(trajectory_data, walkable_area, every_nth_frame=100)"
   ]
  }
 ],
 "metadata": {
  "kernelspec": {
   "display_name": "Python 3 (ipykernel)",
   "language": "python",
   "name": "python3"
  },
  "language_info": {
   "codemirror_mode": {
    "name": "ipython",
    "version": 3
   },
   "file_extension": ".py",
   "mimetype": "text/x-python",
   "name": "python",
   "nbconvert_exporter": "python",
   "pygments_lexer": "ipython3",
   "version": "3.12.2"
  }
 },
 "nbformat": 4,
 "nbformat_minor": 5
}
