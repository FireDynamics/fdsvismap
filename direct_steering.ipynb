{
 "cells": [
  {
   "cell_type": "code",
   "execution_count": null,
   "id": "a6d4f847-92e0-4905-b52b-a9e61aa2355f",
   "metadata": {
    "editable": true,
    "slideshow": {
     "slide_type": ""
    },
    "tags": []
   },
   "outputs": [],
   "source": [
    "import pathlib\n",
    "import os\n",
    "import random\n",
    "import jupedsim as jps\n",
    "import pedpy\n",
    "from matplotlib.patches import Circle\n",
    "from shapely import GeometryCollection, Point, Polygon\n",
    "from fdsvismap import VisMap\n",
    "import shapely\n",
    "import matplotlib.pyplot as plt\n",
    "import matplotlib.patches as patches"
   ]
  },
  {
   "cell_type": "markdown",
   "id": "d8368e62",
   "metadata": {},
   "source": [
    "## FDS geometry\n",
    "```\n",
    "&OBST XB=0.0,19.0, 5.0,5.1, 0.0,3.0 SURF_ID='WALL' /\n",
    "&OBST XB=4.0,4.1, 8.0,15.0, 0.0,3.0 SURF_ID='WALL' /\n",
    "&OBST XB=4.1,18.9, 8.0,8.1, 0.0,3.0 SURF_ID='WALL' /\n",
    "&OBST XB=18.9,19.0, 0.0,15.0, 0.0,5.0 SURF_ID='WALL' /\n",
    "&OBST XB=15.0,15.1, 0.0,5.0, 0.0,3.0 SURF_ID='WALL' /\n",
    "&OBST XB=0.0,19.0, 0.0,15.0, 3.0,3.1 SURF_ID='WALL' /\n",
    "\n",
    "&HOLE XB=18.9,19.0, 6.0,7.2, 0.0,2.0 /\n",
    "&HOLE XB=18.9,19.0, 1.0,2.0, 0.0,2.0 /\n",
    "\n",
    "X0,X1, Y0,Y1, Z0,Z1\n",
    "```"
   ]
  },
  {
   "cell_type": "code",
   "execution_count": null,
   "id": "52b98c5d",
   "metadata": {},
   "outputs": [],
   "source": [
    "def plot_data_2d(data):\n",
    "    fig, ax = plt.subplots()\n",
    "    def parse_coords(coord_str):\n",
    "        coords = coord_str.replace('XB=', '').split(',')\n",
    "        return list(map(float, coords))\n",
    "\n",
    "    for line in data:\n",
    "        if 'XB=' in line:\n",
    "            coord_part = line.split(' ')[1]\n",
    "            xb = parse_coords(coord_part)\n",
    "            if len(xb) >= 4:\n",
    "                rect = patches.Rectangle((xb[0], xb[2]), xb[1]-xb[0], xb[3]-xb[2],\n",
    "                                         linewidth=1, edgecolor='black',\n",
    "                                         facecolor='white' if 'OBST' in line else 'blue', alpha=0.6)\n",
    "                ax.add_patch(rect)\n",
    "\n",
    "    ax.set_xlim(0, 20)\n",
    "    ax.set_ylim(0, 16)\n",
    "    ax.set_xlabel('X')\n",
    "    ax.set_ylabel('Y')\n",
    "    ax.set_title('2D Visualization of Obstacles and Holes')\n",
    "    plt.grid(True)\n",
    "    plt.show()\n",
    "\n",
    "data = [\n",
    "    \"&OBST XB=0.0,19.0,5.0,5.1,0.0,3.0 SURF_ID='WALL' /\",\n",
    "    \"&OBST XB=4.0,4.1,8.0,15.0,0.0,3.0 SURF_ID='WALL' /\",\n",
    "    \"&OBST XB=4.1,18.9,8.0,8.1,0.0,3.0 SURF_ID='WALL' /\",\n",
    "    \"&OBST XB=18.9,19.0,0.0,15.0,0.0,5.0 SURF_ID='WALL' /\",\n",
    "    \"&OBST XB=15.0,15.1,0.0,5.0,0.0,3.0 SURF_ID='WALL' /\",\n",
    "    \"&OBST XB=0.0,19.0,0.0,15.0,3.0,3.1 SURF_ID='WALL' /\",\n",
    "    \"&HOLE XB=18.9,19.0,6.0,7.2,0.0,2.0 /\",\n",
    "    \"&HOLE XB=18.9,19.0,1.0,2.0,0.0,2.0 /\"\n",
    "]\n",
    "\n",
    "plot_data_2d(data)\n"
   ]
  },
  {
   "cell_type": "code",
   "execution_count": null,
   "id": "296d5a35",
   "metadata": {},
   "outputs": [],
   "source": [
    "def read_wkt_from_file(filename):\n",
    "    with open(filename, 'r') as file:\n",
    "        wkt_data = file.readlines()\n",
    "    return wkt_data\n",
    "\n",
    "def data_to_wkt(data):\n",
    "    # List to hold WKT strings\n",
    "    wkt_polygons = []\n",
    "\n",
    "    # Function to parse coordinates and format as WKT POLYGON\n",
    "    def format_wkt(xb):\n",
    "        # Format the coordinates as a WKT POLYGON string\n",
    "        x0, x1, y0, y1 = xb[:4]\n",
    "        return f\"POLYGON(({x0} {y0}, {x1} {y0}, {x1} {y1}, {x0} {y1}, {x0} {y0}))\"\n",
    "\n",
    "    # Parse the coordinate string\n",
    "    def parse_coords(coord_str):\n",
    "        coords = coord_str.replace('XB=', '').split(',')\n",
    "        return list(map(float, coords))\n",
    "\n",
    "    # Extract and format each line's data\n",
    "    for line in data:\n",
    "        if 'XB=' in line:\n",
    "            # Extract the part containing the coordinates\n",
    "            coord_part = line.split(' ')[1]\n",
    "            # Parse coordinates\n",
    "            xb = parse_coords(coord_part)\n",
    "            # Format as WKT\n",
    "            if len(xb) >= 4:\n",
    "                wkt_polygon = format_wkt(xb)\n",
    "                wkt_polygons.append(wkt_polygon)\n",
    "\n",
    "    return wkt_polygons\n",
    "\n",
    "def save_wkt_to_file(wkt_polygons, filename):\n",
    "    with open(filename, 'w') as file:\n",
    "        for polygon in wkt_polygons:\n",
    "            file.write(polygon + '\\n')\n",
    "\n",
    "data = [\n",
    "    \"&OBST XB=0.0,19.0,5.0,5.1,0.0,3.0 SURF_ID='WALL' /\",\n",
    "    \"&OBST XB=4.0,4.1,8.0,15.0,0.0,3.0 SURF_ID='WALL' /\",\n",
    "    \"&OBST XB=4.1,18.9,8.0,8.1,0.0,3.0 SURF_ID='WALL' /\",\n",
    "    \"&OBST XB=18.9,19.0,0.0,15.0,0.0,5.0 SURF_ID='WALL' /\",\n",
    "    \"&OBST XB=15.0,15.1,0.0,5.0,0.0,3.0 SURF_ID='WALL' /\",\n",
    "    \"&OBST XB=0.0,19.0,0.0,15.0,3.0,3.1 SURF_ID='WALL' /\",\n",
    "    \"&HOLE XB=18.9,19.0,6.0,7.2,0.0,2.0 /\",\n",
    "    \"&HOLE XB=18.9,19.0,1.0,2.0,0.0,2.0 /\"\n",
    "]\n",
    "\n",
    "# Convert data to WKT\n",
    "wkt_polygons = data_to_wkt(data)\n",
    "\n",
    "# Save to WKT file\n",
    "save_wkt_to_file(wkt_polygons, 'output.wkt')\n",
    "\n",
    "print(\"WKT data has been saved to 'output.wkt'.\")\n",
    "wkt_data = read_wkt_from_file('output.wkt')"
   ]
  },
  {
   "cell_type": "markdown",
   "id": "34b94c0b",
   "metadata": {},
   "source": [
    "## Vismap config"
   ]
  },
  {
   "cell_type": "code",
   "execution_count": null,
   "id": "2dcdfd6e",
   "metadata": {},
   "outputs": [],
   "source": [
    "project_root = pathlib.Path(os.path.abspath('')) / \"examples\" / \"room_fire\"\n",
    "bg_img = project_root  /\"misc\" / \"floorplan.png\"  # Create instance of VisMap class\n",
    "\n",
    "# Set path for FDS simulation directory and background image\n",
    "sim_dir = str(project_root / \"fds_data\")\n",
    "\n",
    "# Create instance of VisMap class\n",
    "vis = VisMap()\n",
    "\n",
    "# Read data from FDS simulation directory\n",
    "vis.read_fds_data(sim_dir)\n",
    "vis.add_background_image(bg_img)"
   ]
  },
  {
   "cell_type": "code",
   "execution_count": null,
   "id": "ba559efc",
   "metadata": {},
   "outputs": [],
   "source": [
    "# Set starpoint and waypoints along escape route\n",
    "vis.set_start_point(8, 8)\n",
    "vis.set_waypoint(x=8, y=5, c=3, alpha=180)\n",
    "vis.set_waypoint(x=9.8, y=6, c=3, alpha=270)\n",
    "vis.set_waypoint(x=17, y=0, c=3, alpha=0)\n",
    "\n",
    "# Set times when the simulation should be evaluated\n",
    "times = range(0, 500, 50)\n",
    "vis.set_time_points(times)\n",
    "\n",
    "# Do the required calculations to create the Vismap\n",
    "vis.compute_all()"
   ]
  },
  {
   "cell_type": "code",
   "execution_count": null,
   "id": "10747ef7",
   "metadata": {},
   "outputs": [],
   "source": [
    "fig, ax = vis.create_aset_map_plot()\n",
    "ax.set_xlim(0, 20)\n",
    "ax.set_ylim(10, 0)"
   ]
  },
  {
   "cell_type": "code",
   "execution_count": null,
   "id": "1dae48a0",
   "metadata": {},
   "outputs": [],
   "source": [
    "fig, ax = vis.create_time_agg_wp_agg_vismap()\n",
    "ax.set_xlim(0, 20)\n",
    "ax.set_ylim(10, 0)\n",
    "\n",
    "# Check if waypoint is visible from given location at given time\n",
    "print(vis.wp_is_visible(time=50, x=12.5, y=0.6, waypoint_id=2))\n",
    "\n",
    "# Get distance from waypoint to given location\n",
    "print(f\"{vis.get_distance_to_wp(x=17, y=5, waypoint_id=2)=}\")\n",
    "\n",
    "# Calculate local visibility at given location and time, considering a specific c factor\n",
    "print(vis.get_local_visibility(time=100, x=5, y=6, c=3))\n"
   ]
  },
  {
   "cell_type": "markdown",
   "id": "c9f63836-0f81-4684-b99e-abdf664c9d53",
   "metadata": {
    "editable": true,
    "slideshow": {
     "slide_type": ""
    },
    "tags": []
   },
   "source": [
    "## Definition of Start Positions and Exit\n",
    "\n",
    "Now we define the spawning area and way points for the leader to follow."
   ]
  },
  {
   "cell_type": "code",
   "execution_count": null,
   "id": "04bc9e72",
   "metadata": {},
   "outputs": [],
   "source": [
    "area = Polygon([(0, 0), (30, 0), (30, 20), (0, 20)])\n",
    "obstacles = [\n",
    "Polygon([(0, 5), (10, 5), (10, 5.1), (0, 5.1)]),\n",
    "Polygon([(11, 5), (19, 5), (19, 5.1), (11, 5.1)]),\n",
    "\n",
    "Polygon([(4, 8), (4.1, 8), (4.1, 15), (4, 15)]),\n",
    "\n",
    "Polygon([(0, 15), (2.0, 15), (2.0, 15.1), (0, 15.1)]),\n",
    "Polygon([(3.0, 15), (4.1, 15), (4.1, 15.1), (3.0, 15.1)]),\n",
    "\n",
    "Polygon([(4.1, 15), (19, 15), (19, 15.1), (4.1, 15.1)]),\n",
    "\n",
    "Polygon([(4.1, 8), (13, 8), (13, 8.1), (4.1, 8.1)]),\n",
    "Polygon([(14, 8), (18.89, 8), (18.89, 8.1), (14, 8.1)]),\n",
    "\n",
    "Polygon([(18.9, 5.0), (19.0, 5.0), (19.0, 6), (18.9, 6), (18.9, 5.0)]),\n",
    "Polygon([(18.9, 0), (18.9, 5), (19.0, 5), (19, 0), (18.9,0)]),\n",
    "\n",
    "Polygon([(18.9, 7.0), (19.0, 7.0), (19.0, 15.1), (18.9, 15.1), (18.9, 7.0)]),\n",
    "Polygon([(15, 0), (15.1, 0), (15.1, 4.99), (15, 4.99)]),\n",
    "]\n",
    "obstacle = shapely.union_all(obstacles)\n",
    "walkable_area = pedpy.WalkableArea(shapely.difference(area, obstacle))\n",
    "pedpy.plot_walkable_area(walkable_area=walkable_area)"
   ]
  },
  {
   "cell_type": "code",
   "execution_count": null,
   "id": "9a789743",
   "metadata": {},
   "outputs": [],
   "source": [
    "area = Polygon([(0, 0), (30, 0), (30, 20), (0, 20)])\n",
    "\n",
    "obstacles = [\n",
    "Polygon([(0, 15), (2.0, 15), (2.0, 15.1), (0, 15.1)]),\n",
    "Polygon([(0, 5), (10, 5), (10, 5.1), (0, 5.1)]),\n",
    "\n",
    "Polygon([(15, 0), (15, 5), (11, 5), (11, 5.1), (18.9, 5.1), (18.9, 6), (19, 6), (19, 0)]),\n",
    "#Polygon([(18.9, 0), (18.9, 5.0), (15.1, 5.0), (15.1, 0)]),\n",
    "\n",
    "Polygon([(4.0, 8), (13, 8), (13, 8.1), (4.1, 8.1), (4.1, 15.0), (18.9, 15.0), (18.9, 8.1), (14.0, 8.1), (14.0, 8.0), (18.9, 8.0), (18.9, 7.0), (19, 7.0), (19, 15.1), (3, 15.1), (3, 15.0), (4.0, 15.0)]),\n",
    "]\n",
    "obstacle = shapely.union_all(obstacles)\n",
    "walkable_area = pedpy.WalkableArea(shapely.difference(area, obstacle))\n",
    "pedpy.plot_walkable_area(walkable_area=walkable_area)"
   ]
  },
  {
   "cell_type": "code",
   "execution_count": null,
   "id": "5dec36fb-55f2-4225-aac7-32be899c9254",
   "metadata": {
    "editable": true,
    "slideshow": {
     "slide_type": ""
    },
    "tags": []
   },
   "outputs": [],
   "source": [
    "num_agents = 3\n",
    "seed = 1\n",
    "spawning_area1 = Polygon([(0, 0), (0, 5), (5, 5), (5, 0)])\n",
    "spawning_area2 = Polygon([(4.1, 10), (7, 10), (7, 14.5), (4.1, 14.5)])\n",
    "pos_in_spawning_areas = [\n",
    "    jps.distributions.distribute_by_number(\n",
    "    polygon=spawning_area2,\n",
    "    number_of_agents=num_agents,\n",
    "    distance_to_agents=0.4,\n",
    "    distance_to_polygon=0.15,\n",
    "    seed=seed,\n",
    "),\n",
    "  jps.distributions.distribute_by_number(\n",
    "    polygon=spawning_area1,\n",
    "    number_of_agents=num_agents,\n",
    "    distance_to_agents=0.4,\n",
    "    distance_to_polygon=0.15,\n",
    "    seed=seed,\n",
    ")\n",
    "]\n",
    "exits = [\n",
    "    Polygon([(2, 15.5), (3, 15.5), (3, 16.5), (2, 16.5), (2, 15.5)]),\n",
    "    Polygon([(28, 15.5), (29, 15.5), (29, 16.5), (28, 16.5), (28, 15.5)]),\n",
    "]   \n",
    "waypoints = [\n",
    "    (13.5, 8),\n",
    "    (10.5, 5),\n",
    "    (19, 6.5),\n",
    "]\n",
    "distance_to_waypoints = 0.5"
   ]
  },
  {
   "cell_type": "code",
   "execution_count": null,
   "id": "220d8141-614e-464d-9dcc-fc5ea8d1a6af",
   "metadata": {
    "editable": true,
    "slideshow": {
     "slide_type": ""
    },
    "tags": [
     "hide-input"
    ]
   },
   "outputs": [],
   "source": [
    "def plot_simulation_configuration(\n",
    "    walkable_area, starting_positions, exits\n",
    "):\n",
    "    axes = pedpy.plot_walkable_area(walkable_area=walkable_area)\n",
    "    for exit_area in exits:\n",
    "        axes.fill(*exit_area.exterior.xy, color=\"indianred\")\n",
    "\n",
    "    for starting_position in starting_positions:\n",
    "      \n",
    "        axes.scatter(*zip(*starting_position), s=1, color='gray')    \n",
    "\n",
    "    axes.set_xlabel(\"x/m\")\n",
    "    axes.set_ylabel(\"y/m\")\n",
    "    axes.set_aspect(\"equal\")\n",
    "    for idx, waypoint in enumerate(waypoints):\n",
    "        axes.plot(waypoint[0], waypoint[1], \"ro\")\n",
    "        axes.annotate(\n",
    "            f\"WP {idx+1}\",\n",
    "            (waypoint[0], waypoint[1]),\n",
    "            textcoords=\"offset points\",\n",
    "            xytext=(10, -15),\n",
    "            ha=\"center\",\n",
    "        )\n",
    "        circle = Circle(\n",
    "            (waypoint[0], waypoint[1]),\n",
    "            distance_to_waypoints,\n",
    "            fc=\"red\",\n",
    "            ec=\"red\",\n",
    "            alpha=0.1,\n",
    "        )\n",
    "        axes.add_patch(circle)\n",
    "\n",
    "\n",
    "plot_simulation_configuration(\n",
    "    walkable_area, pos_in_spawning_areas, exits\n",
    ")"
   ]
  },
  {
   "cell_type": "markdown",
   "id": "2b990c43-7c81-4f19-92d6-97280974c300",
   "metadata": {
    "editable": true,
    "slideshow": {
     "slide_type": ""
    },
    "tags": []
   },
   "source": [
    "## Specification of Parameters und Running the Simulation\n",
    "\n",
    "Now we just need to define the details of the operational model as well as the exit."
   ]
  },
  {
   "cell_type": "code",
   "execution_count": null,
   "id": "6a9b725e-cf77-4589-9023-3105665684ea",
   "metadata": {
    "editable": true,
    "slideshow": {
     "slide_type": ""
    },
    "tags": []
   },
   "outputs": [],
   "source": [
    "trajectory_file = \"output.sqlite\"  # output file\n",
    "simulation = jps.Simulation(\n",
    "    model=jps.GeneralizedCentrifugalForceModel(\n",
    "        max_neighbor_repulsion_force=10,\n",
    "        max_geometry_repulsion_force=10,\n",
    "        max_neighbor_interaction_distance=2,\n",
    "        max_neighbor_interpolation_distance=0.1,\n",
    "        strength_neighbor_repulsion=0.3,\n",
    "    ),\n",
    "    geometry=walkable_area.polygon,\n",
    "    trajectory_writer=jps.SqliteTrajectoryWriter(\n",
    "        output_file=pathlib.Path(trajectory_file)\n",
    "    ),\n",
    ")\n",
    "exit_ids = [simulation.add_exit_stage(exit_area.exterior.coords[:-1]) for exit_area in exits]"
   ]
  },
  {
   "cell_type": "markdown",
   "id": "015995f0",
   "metadata": {},
   "source": [
    "## Define Journey for people in the upper room going right\n"
   ]
  },
  {
   "cell_type": "code",
   "execution_count": null,
   "id": "17f4ba2f",
   "metadata": {},
   "outputs": [],
   "source": [
    "waypoint_ids = [\n",
    "    simulation.add_waypoint_stage(waypoint, distance_to_waypoints)\n",
    "    for waypoint in waypoints\n",
    "]\n",
    "journey_up_right= jps.JourneyDescription([*waypoint_ids, *exit_ids])\n",
    "journey_up_right.set_transition_for_stage(\n",
    "        waypoint_ids[0],\n",
    "        jps.Transition.create_fixed_transition(\n",
    "            waypoint_ids[2]),\n",
    "    )\n",
    "journey_up_right.set_transition_for_stage(\n",
    "        waypoint_ids[2],\n",
    "        jps.Transition.create_fixed_transition(\n",
    "            exit_ids[1]),\n",
    "    )\n",
    "journey_up_right_id = simulation.add_journey(journey_up_right)"
   ]
  },
  {
   "cell_type": "markdown",
   "id": "9ffe02f5",
   "metadata": {},
   "source": [
    "## Define Journey for people in the upper room going left\n"
   ]
  },
  {
   "cell_type": "code",
   "execution_count": null,
   "id": "e7784d72",
   "metadata": {},
   "outputs": [],
   "source": [
    "journey_up_left= jps.JourneyDescription([*waypoint_ids, *exit_ids])\n",
    "journey_up_left.set_transition_for_stage(\n",
    "        waypoint_ids[0],\n",
    "        jps.Transition.create_fixed_transition(\n",
    "            exit_ids[0]),\n",
    "    )\n",
    "journey_up_left_id = simulation.add_journey(journey_up_left)"
   ]
  },
  {
   "cell_type": "markdown",
   "id": "61413b86",
   "metadata": {},
   "source": [
    "## Define Journey for people in the lower room going right"
   ]
  },
  {
   "cell_type": "code",
   "execution_count": null,
   "id": "1a65b40e",
   "metadata": {},
   "outputs": [],
   "source": [
    "journey_down_right= jps.JourneyDescription([*waypoint_ids, *exit_ids])\n",
    "journey_down_right.set_transition_for_stage(\n",
    "        waypoint_ids[1],\n",
    "        jps.Transition.create_fixed_transition(\n",
    "            waypoint_ids[2]),\n",
    "    )\n",
    "journey_down_right.set_transition_for_stage(\n",
    "        waypoint_ids[2],\n",
    "        jps.Transition.create_fixed_transition(\n",
    "            exit_ids[1]),\n",
    "    )\n",
    "journey_down_right_id = simulation.add_journey(journey_down_right)"
   ]
  },
  {
   "cell_type": "markdown",
   "id": "b69d28b3",
   "metadata": {},
   "source": [
    "## Define Journey for people in the lower room going left"
   ]
  },
  {
   "cell_type": "code",
   "execution_count": null,
   "id": "ef9475c0",
   "metadata": {},
   "outputs": [],
   "source": [
    "journey_down_left= jps.JourneyDescription([*waypoint_ids, *exit_ids])\n",
    "journey_down_left.set_transition_for_stage(\n",
    "        waypoint_ids[1],\n",
    "        jps.Transition.create_fixed_transition(\n",
    "            exit_ids[0]),\n",
    "    )\n",
    "journey_down_left_id = simulation.add_journey(journey_down_left)"
   ]
  },
  {
   "cell_type": "markdown",
   "id": "0d643d8f",
   "metadata": {},
   "source": [
    "## Add agents\n",
    "\n",
    "First, add leader, then its followers."
   ]
  },
  {
   "cell_type": "code",
   "execution_count": null,
   "id": "86acd974",
   "metadata": {},
   "outputs": [],
   "source": [
    "ids_up = set(\n",
    "    [\n",
    "        simulation.add_agent(\n",
    "            jps.GeneralizedCentrifugalForceModelAgentParameters(\n",
    "                journey_id=journey_up_right_id,\n",
    "                stage_id=waypoint_ids[0],\n",
    "                position=pos,\n",
    "                v0=0.8,\n",
    "                b_min=0.1,\n",
    "                b_max=0.2,\n",
    "                a_min=0.1,\n",
    "                a_v=0.2,\n",
    "                orientation=(1, 0),\n",
    "            )\n",
    "        )\n",
    "        for pos in pos_in_spawning_areas[0]\n",
    "    ]\n",
    ")\n",
    "ids_down = set(\n",
    "    [\n",
    "        simulation.add_agent(\n",
    "            jps.GeneralizedCentrifugalForceModelAgentParameters(\n",
    "                journey_id=journey_down_right_id,\n",
    "                stage_id=waypoint_ids[1],\n",
    "                position=pos,\n",
    "                v0=0.8,\n",
    "                b_min=0.1,\n",
    "                b_max=0.2,\n",
    "                a_min=0.1,\n",
    "                a_v=0.2,\n",
    "                orientation=(1, 0),\n",
    "            )\n",
    "        )\n",
    "        for pos in pos_in_spawning_areas[1]\n",
    "    ]\n",
    ")"
   ]
  },
  {
   "cell_type": "markdown",
   "id": "18018147",
   "metadata": {},
   "source": [
    "## Simulation loop"
   ]
  },
  {
   "cell_type": "code",
   "execution_count": null,
   "id": "335348ab",
   "metadata": {},
   "outputs": [],
   "source": [
    "while simulation.agent_count() > 0:\n",
    "    for agent in simulation.agents():\n",
    "        condition = simulation.iteration_count() > 300\n",
    "        if agent.journey_id == journey_up_right_id and condition:\n",
    "            simulation.switch_agent_journey(agent.id, journey_up_left_id, exit_ids[0])\n",
    "        if agent.journey_id == journey_down_right_id and condition:\n",
    "            simulation.switch_agent_journey(agent.id, journey_down_left_id, exit_ids[0])\n",
    "\n",
    "    simulation.iterate()"
   ]
  },
  {
   "cell_type": "markdown",
   "id": "77d7e165-1c0d-4aca-a5fa-d88d0625e8f4",
   "metadata": {
    "editable": true,
    "slideshow": {
     "slide_type": ""
    },
    "tags": []
   },
   "source": [
    "## Visualization\n",
    "\n",
    "Let's have a look at the visualization of the simulated trajectories:"
   ]
  },
  {
   "cell_type": "code",
   "execution_count": null,
   "id": "7a4455d6-3f11-4312-806a-d6d7ad6e1510",
   "metadata": {
    "editable": true,
    "pycharm": {
     "name": "#%%\n"
    },
    "slideshow": {
     "slide_type": ""
    },
    "tags": []
   },
   "outputs": [],
   "source": [
    "from jupedsim.internal.notebook_utils import animate, read_sqlite_file\n",
    "\n",
    "trajectory_data, walkable_area = read_sqlite_file(trajectory_file)\n",
    "animate(trajectory_data, walkable_area, every_nth_frame=10)"
   ]
  },
  {
   "cell_type": "code",
   "execution_count": null,
   "id": "83f467dd",
   "metadata": {},
   "outputs": [],
   "source": []
  }
 ],
 "metadata": {
  "kernelspec": {
   "display_name": "Python 3 (ipykernel)",
   "language": "python",
   "name": "python3"
  },
  "language_info": {
   "codemirror_mode": {
    "name": "ipython",
    "version": 3
   },
   "file_extension": ".py",
   "mimetype": "text/x-python",
   "name": "python",
   "nbconvert_exporter": "python",
   "pygments_lexer": "ipython3",
   "version": "3.12.2"
  }
 },
 "nbformat": 4,
 "nbformat_minor": 5
}
